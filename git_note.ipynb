{
 "cells": [
  {
   "cell_type": "code",
   "execution_count": 1,
   "metadata": {},
   "outputs": [
    {
     "name": "stderr",
     "output_type": "stream",
     "text": [
      "C:\\Users\\samuelms\\AppData\\Roaming\\Python\\Python39\\site-packages\\geopandas\\_compat.py:124: UserWarning: The Shapely GEOS version (3.11.1-CAPI-1.17.1) is incompatible with the GEOS version PyGEOS was compiled with (3.10.4-CAPI-1.16.2). Conversions between both will be slow.\n",
      "  warnings.warn(\n",
      "C:\\Users\\samuelms\\AppData\\Local\\Temp\\ipykernel_8512\\3399898767.py:5: DeprecationWarning: Shapely 2.0 is installed, but because PyGEOS is also installed, GeoPandas still uses PyGEOS by default. However, starting with version 0.14, the default will switch to Shapely. To force to use Shapely 2.0 now, you can either uninstall PyGEOS or set the environment variable USE_PYGEOS=0. You can do this before starting the Python process, or in your code before importing geopandas:\n",
      "\n",
      "import os\n",
      "os.environ['USE_PYGEOS'] = '0'\n",
      "import geopandas\n",
      "\n",
      "In the next release, GeoPandas will switch to using Shapely by default, even if PyGEOS is installed. If you only have PyGEOS installed to get speed-ups, this switch should be smooth. However, if you are using PyGEOS directly (calling PyGEOS functions on geometries from GeoPandas), this will then stop working and you are encouraged to migrate from PyGEOS to Shapely 2.0 (https://shapely.readthedocs.io/en/latest/migration_pygeos.html).\n",
      "  import geopandas as gpd\n"
     ]
    }
   ],
   "source": [
    "from shapely import wkt\n",
    "from shapely.geometry import Point\n",
    "from shapely.geometry import mapping\n",
    "from pyproj import Transformer\n",
    "import geopandas as gpd\n",
    "import pandas as pd\n",
    "import requests"
   ]
  },
  {
   "cell_type": "code",
   "execution_count": null,
   "metadata": {},
   "outputs": [
    {
     "name": "stdout",
     "output_type": "stream",
     "text": [
      "Unique years in counties_with_flow_yearly: [2009, 2010, 2011, 2012, 2013, 2014, 2015, 2016, 2017, 2018, 2019, 2020]\n",
      "Unique years in counties_with_load: [2010, 2011, 2012, 2013, 2014, 2015, 2016, 2017, 2018, 2019]\n"
     ]
    },
    {
     "data": {
      "application/vnd.jupyter.widget-view+json": {
       "model_id": "81ac71ed8a99439891baafbda622be40",
       "version_major": 2,
       "version_minor": 0
      },
      "text/plain": [
       "Dropdown(description='Year:', options=(2010, 2011, 2012, 2013, 2014, 2015, 2016, 2017, 2018, 2019), value=2010…"
      ]
     },
     "metadata": {},
     "output_type": "display_data"
    },
    {
     "data": {
      "application/vnd.jupyter.widget-view+json": {
       "model_id": "62f84ac38a0747a48fd79e3f8e6fd6ce",
       "version_major": 2,
       "version_minor": 0
      },
      "text/plain": [
       "Output()"
      ]
     },
     "metadata": {},
     "output_type": "display_data"
    }
   ],
   "source": [
    "import matplotlib.pyplot as plt\n",
    "import ipywidgets as widgets\n",
    "from IPython.display import display, clear_output\n",
    "from ipywidgets import Output\n",
    "import pandas as pd\n",
    "import geopandas as gpd\n",
    "\n",
    "\n",
    "# Load the yearly data\n",
    "counties_with_flow_yearly = pd.read_csv('counties_with_flow_yearly.csv')  # Yearly streamflow\n",
    "counties_with_load = pd.read_csv('counties_with_load_yearly.csv')  # Yearly load\n",
    "\n",
    "# Ensure no NaN values and convert types\n",
    "counties_with_flow_yearly = counties_with_flow_yearly.dropna(subset=['Year'])\n",
    "counties_with_flow_yearly['Year'] = counties_with_flow_yearly['Year'].astype(int)\n",
    "\n",
    "counties_with_load = counties_with_load.dropna(subset=['Year'])\n",
    "counties_with_load['Year'] = counties_with_load['Year'].astype(int)\n",
    "\n",
    "# Debug: Print unique years in both datasets\n",
    "print(\"Unique years in counties_with_flow_yearly:\", sorted(counties_with_flow_yearly['Year'].unique()))\n",
    "print(\"Unique years in counties_with_load:\", sorted(counties_with_load['Year'].unique()))\n",
    "\n",
    "# Explicitly convert WKT strings in 'geometry' column to shapely geometry objects\n",
    "counties_with_flow_yearly['geometry'] = counties_with_flow_yearly['geometry'].apply(wkt.loads)\n",
    "counties_with_load['geometry'] = counties_with_load['geometry'].apply(wkt.loads)\n",
    "\n",
    "# Create GeoDataFrames using the explicitly converted geometry column\n",
    "counties_with_flow_yearly = gpd.GeoDataFrame(\n",
    "    counties_with_flow_yearly,\n",
    "    geometry='geometry'\n",
    ")\n",
    "\n",
    "counties_with_load = gpd.GeoDataFrame(\n",
    "    counties_with_load,\n",
    "    geometry='geometry'\n",
    ")\n",
    "\n",
    "# Find common years in both datasets\n",
    "common_years = sorted(set(counties_with_flow_yearly['Year'].unique()) & set(counties_with_load['Year'].unique()))\n",
    "\n",
    "# Widget for Year\n",
    "year_widget = widgets.Dropdown(\n",
    "    options=common_years,\n",
    "    value=common_years[0],\n",
    "    description='Year:',\n",
    ")\n",
    "\n",
    "# Create an Output widget to control the plot display\n",
    "output = Output()\n",
    "\n",
    "def plot_maps(year, output_widget):\n",
    "    \"\"\"\n",
    "    Function to plot two maps side by side: Streamflow on the left, Load on the right.\n",
    "    \"\"\"\n",
    "    with output_widget:\n",
    "        clear_output(wait=True)\n",
    "        print(f\"Plotting maps for year: {year}\")\n",
    "\n",
    "        # Filter data for the selected year\n",
    "        flow_data = counties_with_flow_yearly[counties_with_flow_yearly['Year'] == year]\n",
    "        load_data = counties_with_load[counties_with_load['Year'] == year]\n",
    "\n",
    "        # Debug: Check the number of rows after filtering\n",
    "        print(f\"Rows in flow_data for year {year}: {len(flow_data)}\")\n",
    "        print(f\"Rows in load_data for year {year}: {len(load_data)}\")\n",
    "\n",
    "        # Create a figure with two subplots side by side\n",
    "        fig, (ax1, ax2) = plt.subplots(1, 2, figsize=(20, 10), num=f\"maps_{year}\")\n",
    "\n",
    "        # Plot Streamflow map on the left\n",
    "        flow_data.plot(ax=ax1, column='total_streamflow', cmap='Blues', legend=True,\n",
    "                       edgecolor='black', legend_kwds={'label': \"Streamflow (mm)\"})\n",
    "        ax1.set_title(f'Streamflow for {year}')\n",
    "        ax1.set_axis_off()\n",
    "\n",
    "        # Plot Load map on the right\n",
    "        load_data.plot(ax=ax2, column='loading_kgha', cmap='Reds', legend=True,\n",
    "                       edgecolor='black', legend_kwds={'label': \"Nitrogen Load (kg/ha)\"})\n",
    "        ax2.set_title(f'Nitrogen Load for {year}')\n",
    "        ax2.set_axis_off()\n",
    "\n",
    "        plt.tight_layout()\n",
    "        plt.show()\n",
    "        plt.close(fig)\n",
    "\n",
    "def on_value_change(change):\n",
    "    \"\"\"\n",
    "    Handler function for when the year widget selection changes.\n",
    "    \"\"\"\n",
    "    plot_maps(change['new'], output)\n",
    "\n",
    "# Bind the handler to the widget\n",
    "year_widget.observe(on_value_change, names='value')\n",
    "\n",
    "# Display the initial setup\n",
    "display(year_widget)\n",
    "display(output)\n",
    "plot_maps(year_widget.value, output)"
   ]
  },
  {
   "cell_type": "code",
   "execution_count": null,
   "metadata": {},
   "outputs": [],
   "source": []
  }
 ],
 "metadata": {
  "kernelspec": {
   "display_name": "base",
   "language": "python",
   "name": "python3"
  },
  "language_info": {
   "codemirror_mode": {
    "name": "ipython",
    "version": 3
   },
   "file_extension": ".py",
   "mimetype": "text/x-python",
   "name": "python",
   "nbconvert_exporter": "python",
   "pygments_lexer": "ipython3",
   "version": "3.9.12"
  }
 },
 "nbformat": 4,
 "nbformat_minor": 2
}
